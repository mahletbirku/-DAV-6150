{
 "cells": [
  {
   "cell_type": "markdown",
   "metadata": {},
   "source": [
    "# DAV 6150 Module 3 Assignment\n",
    "   ### Cleaning “Messy” Data"
   ]
  },
  {
   "cell_type": "markdown",
   "metadata": {},
   "source": [
    "## 1. Introduction "
   ]
  },
  {
   "cell_type": "markdown",
   "metadata": {},
   "source": [
    "For this assignment, I will be using  a dataset which is comprised of information on more than 12,700 wines, with many of the attributes being related to the chemical composition of the wines.\n",
    "Here, the goal is exploring and “cleaning” a data set that suffers from a variety of data integrity + usability issues.\n",
    "\n"
   ]
  },
  {
   "cell_type": "markdown",
   "metadata": {},
   "source": [
    "## Import Libraries"
   ]
  },
  {
   "cell_type": "code",
   "execution_count": 1,
   "metadata": {},
   "outputs": [],
   "source": [
    "import numpy as np\n",
    "import pandas as pd\n",
    "import seaborn as sns"
   ]
  },
  {
   "cell_type": "markdown",
   "metadata": {},
   "source": [
    "## 2. Exploratory Data Analysis "
   ]
  },
  {
   "cell_type": "markdown",
   "metadata": {},
   "source": [
    "#### Part1. Read dataset from my github  repo and creat pandas dataframe"
   ]
  },
  {
   "cell_type": "code",
   "execution_count": 10,
   "metadata": {},
   "outputs": [
    {
     "data": {
      "text/html": [
       "<div>\n",
       "<style scoped>\n",
       "    .dataframe tbody tr th:only-of-type {\n",
       "        vertical-align: middle;\n",
       "    }\n",
       "\n",
       "    .dataframe tbody tr th {\n",
       "        vertical-align: top;\n",
       "    }\n",
       "\n",
       "    .dataframe thead th {\n",
       "        text-align: right;\n",
       "    }\n",
       "</style>\n",
       "<table border=\"1\" class=\"dataframe\">\n",
       "  <thead>\n",
       "    <tr style=\"text-align: right;\">\n",
       "      <th></th>\n",
       "      <th>Unnamed: 0</th>\n",
       "      <th>INDEX</th>\n",
       "      <th>TARGET</th>\n",
       "      <th>FixedAcidity</th>\n",
       "      <th>VolatileAcidity</th>\n",
       "      <th>CitricAcid</th>\n",
       "      <th>ResidualSugar</th>\n",
       "      <th>Chlorides</th>\n",
       "      <th>FreeSulfurDioxide</th>\n",
       "      <th>TotalSulfurDioxide</th>\n",
       "      <th>Density</th>\n",
       "      <th>pH</th>\n",
       "      <th>Sulphates</th>\n",
       "      <th>Alcohol</th>\n",
       "      <th>LabelAppeal</th>\n",
       "      <th>AcidIndex</th>\n",
       "      <th>STARS</th>\n",
       "    </tr>\n",
       "  </thead>\n",
       "  <tbody>\n",
       "    <tr>\n",
       "      <th>0</th>\n",
       "      <td>0</td>\n",
       "      <td>1</td>\n",
       "      <td>3</td>\n",
       "      <td>3.2</td>\n",
       "      <td>1.160</td>\n",
       "      <td>0.98</td>\n",
       "      <td>54.20</td>\n",
       "      <td>0.567</td>\n",
       "      <td>NaN</td>\n",
       "      <td>268.0</td>\n",
       "      <td>0.99280</td>\n",
       "      <td>3.33</td>\n",
       "      <td>0.59</td>\n",
       "      <td>9.9</td>\n",
       "      <td>0</td>\n",
       "      <td>8</td>\n",
       "      <td>2.0</td>\n",
       "    </tr>\n",
       "    <tr>\n",
       "      <th>1</th>\n",
       "      <td>1</td>\n",
       "      <td>2</td>\n",
       "      <td>3</td>\n",
       "      <td>4.5</td>\n",
       "      <td>0.160</td>\n",
       "      <td>0.81</td>\n",
       "      <td>26.10</td>\n",
       "      <td>0.425</td>\n",
       "      <td>15.0</td>\n",
       "      <td>327.0</td>\n",
       "      <td>1.02792</td>\n",
       "      <td>3.38</td>\n",
       "      <td>0.70</td>\n",
       "      <td>NaN</td>\n",
       "      <td>-1</td>\n",
       "      <td>7</td>\n",
       "      <td>3.0</td>\n",
       "    </tr>\n",
       "    <tr>\n",
       "      <th>2</th>\n",
       "      <td>2</td>\n",
       "      <td>4</td>\n",
       "      <td>5</td>\n",
       "      <td>7.1</td>\n",
       "      <td>2.640</td>\n",
       "      <td>0.88</td>\n",
       "      <td>14.80</td>\n",
       "      <td>0.037</td>\n",
       "      <td>214.0</td>\n",
       "      <td>142.0</td>\n",
       "      <td>0.99518</td>\n",
       "      <td>3.12</td>\n",
       "      <td>0.48</td>\n",
       "      <td>22.0</td>\n",
       "      <td>-1</td>\n",
       "      <td>8</td>\n",
       "      <td>3.0</td>\n",
       "    </tr>\n",
       "    <tr>\n",
       "      <th>3</th>\n",
       "      <td>3</td>\n",
       "      <td>5</td>\n",
       "      <td>3</td>\n",
       "      <td>5.7</td>\n",
       "      <td>0.385</td>\n",
       "      <td>0.04</td>\n",
       "      <td>18.80</td>\n",
       "      <td>0.425</td>\n",
       "      <td>22.0</td>\n",
       "      <td>115.0</td>\n",
       "      <td>0.99640</td>\n",
       "      <td>2.24</td>\n",
       "      <td>1.83</td>\n",
       "      <td>6.2</td>\n",
       "      <td>-1</td>\n",
       "      <td>6</td>\n",
       "      <td>1.0</td>\n",
       "    </tr>\n",
       "    <tr>\n",
       "      <th>4</th>\n",
       "      <td>4</td>\n",
       "      <td>6</td>\n",
       "      <td>4</td>\n",
       "      <td>8.0</td>\n",
       "      <td>0.330</td>\n",
       "      <td>1.26</td>\n",
       "      <td>9.40</td>\n",
       "      <td>NaN</td>\n",
       "      <td>167.0</td>\n",
       "      <td>108.0</td>\n",
       "      <td>0.99457</td>\n",
       "      <td>3.12</td>\n",
       "      <td>1.77</td>\n",
       "      <td>13.7</td>\n",
       "      <td>0</td>\n",
       "      <td>9</td>\n",
       "      <td>2.0</td>\n",
       "    </tr>\n",
       "    <tr>\n",
       "      <th>5</th>\n",
       "      <td>5</td>\n",
       "      <td>7</td>\n",
       "      <td>0</td>\n",
       "      <td>11.3</td>\n",
       "      <td>0.320</td>\n",
       "      <td>0.59</td>\n",
       "      <td>2.20</td>\n",
       "      <td>0.556</td>\n",
       "      <td>37.0</td>\n",
       "      <td>15.0</td>\n",
       "      <td>0.99940</td>\n",
       "      <td>3.20</td>\n",
       "      <td>1.29</td>\n",
       "      <td>15.4</td>\n",
       "      <td>0</td>\n",
       "      <td>11</td>\n",
       "      <td>NaN</td>\n",
       "    </tr>\n",
       "    <tr>\n",
       "      <th>6</th>\n",
       "      <td>6</td>\n",
       "      <td>8</td>\n",
       "      <td>0</td>\n",
       "      <td>7.7</td>\n",
       "      <td>0.290</td>\n",
       "      <td>0.40</td>\n",
       "      <td>21.50</td>\n",
       "      <td>0.060</td>\n",
       "      <td>287.0</td>\n",
       "      <td>156.0</td>\n",
       "      <td>0.99572</td>\n",
       "      <td>3.49</td>\n",
       "      <td>1.21</td>\n",
       "      <td>10.3</td>\n",
       "      <td>0</td>\n",
       "      <td>8</td>\n",
       "      <td>NaN</td>\n",
       "    </tr>\n",
       "    <tr>\n",
       "      <th>7</th>\n",
       "      <td>7</td>\n",
       "      <td>11</td>\n",
       "      <td>4</td>\n",
       "      <td>6.5</td>\n",
       "      <td>1.220</td>\n",
       "      <td>0.34</td>\n",
       "      <td>1.40</td>\n",
       "      <td>0.040</td>\n",
       "      <td>523.0</td>\n",
       "      <td>551.0</td>\n",
       "      <td>1.03236</td>\n",
       "      <td>3.20</td>\n",
       "      <td>NaN</td>\n",
       "      <td>11.6</td>\n",
       "      <td>1</td>\n",
       "      <td>7</td>\n",
       "      <td>3.0</td>\n",
       "    </tr>\n",
       "    <tr>\n",
       "      <th>8</th>\n",
       "      <td>8</td>\n",
       "      <td>12</td>\n",
       "      <td>3</td>\n",
       "      <td>14.8</td>\n",
       "      <td>0.270</td>\n",
       "      <td>1.05</td>\n",
       "      <td>11.25</td>\n",
       "      <td>0.007</td>\n",
       "      <td>213.0</td>\n",
       "      <td>NaN</td>\n",
       "      <td>0.99620</td>\n",
       "      <td>4.93</td>\n",
       "      <td>0.26</td>\n",
       "      <td>15.0</td>\n",
       "      <td>0</td>\n",
       "      <td>6</td>\n",
       "      <td>NaN</td>\n",
       "    </tr>\n",
       "    <tr>\n",
       "      <th>9</th>\n",
       "      <td>9</td>\n",
       "      <td>13</td>\n",
       "      <td>6</td>\n",
       "      <td>5.5</td>\n",
       "      <td>0.220</td>\n",
       "      <td>0.39</td>\n",
       "      <td>1.80</td>\n",
       "      <td>0.277</td>\n",
       "      <td>62.0</td>\n",
       "      <td>180.0</td>\n",
       "      <td>0.94724</td>\n",
       "      <td>3.09</td>\n",
       "      <td>0.75</td>\n",
       "      <td>12.6</td>\n",
       "      <td>0</td>\n",
       "      <td>8</td>\n",
       "      <td>4.0</td>\n",
       "    </tr>\n",
       "  </tbody>\n",
       "</table>\n",
       "</div>"
      ],
      "text/plain": [
       "   Unnamed: 0  INDEX  TARGET  FixedAcidity  VolatileAcidity  CitricAcid  \\\n",
       "0           0      1       3           3.2            1.160        0.98   \n",
       "1           1      2       3           4.5            0.160        0.81   \n",
       "2           2      4       5           7.1            2.640        0.88   \n",
       "3           3      5       3           5.7            0.385        0.04   \n",
       "4           4      6       4           8.0            0.330        1.26   \n",
       "5           5      7       0          11.3            0.320        0.59   \n",
       "6           6      8       0           7.7            0.290        0.40   \n",
       "7           7     11       4           6.5            1.220        0.34   \n",
       "8           8     12       3          14.8            0.270        1.05   \n",
       "9           9     13       6           5.5            0.220        0.39   \n",
       "\n",
       "   ResidualSugar  Chlorides  FreeSulfurDioxide  TotalSulfurDioxide  Density  \\\n",
       "0          54.20      0.567                NaN               268.0  0.99280   \n",
       "1          26.10      0.425               15.0               327.0  1.02792   \n",
       "2          14.80      0.037              214.0               142.0  0.99518   \n",
       "3          18.80      0.425               22.0               115.0  0.99640   \n",
       "4           9.40        NaN              167.0               108.0  0.99457   \n",
       "5           2.20      0.556               37.0                15.0  0.99940   \n",
       "6          21.50      0.060              287.0               156.0  0.99572   \n",
       "7           1.40      0.040              523.0               551.0  1.03236   \n",
       "8          11.25      0.007              213.0                 NaN  0.99620   \n",
       "9           1.80      0.277               62.0               180.0  0.94724   \n",
       "\n",
       "     pH  Sulphates  Alcohol  LabelAppeal  AcidIndex  STARS  \n",
       "0  3.33       0.59      9.9            0          8    2.0  \n",
       "1  3.38       0.70      NaN           -1          7    3.0  \n",
       "2  3.12       0.48     22.0           -1          8    3.0  \n",
       "3  2.24       1.83      6.2           -1          6    1.0  \n",
       "4  3.12       1.77     13.7            0          9    2.0  \n",
       "5  3.20       1.29     15.4            0         11    NaN  \n",
       "6  3.49       1.21     10.3            0          8    NaN  \n",
       "7  3.20        NaN     11.6            1          7    3.0  \n",
       "8  4.93       0.26     15.0            0          6    NaN  \n",
       "9  3.09       0.75     12.6            0          8    4.0  "
      ]
     },
     "execution_count": 10,
     "metadata": {},
     "output_type": "execute_result"
    }
   ],
   "source": [
    "# Downloading the csv file from my GitHub repo\n",
    "data_url = \"https://raw.githubusercontent.com/mahletbirku/-DAV-6150/main/M3_Data.csv\"\n",
    "df = pd.read_csv(data_url)\n",
    "\n",
    "# show data with head() function \n",
    "df.head(10)"
   ]
  },
  {
   "cell_type": "markdown",
   "metadata": {},
   "source": [
    "This is the first 10 rows of the dataset using the head method. Here, we can have a first look at the features like columns and some of the values that each one takes."
   ]
  },
  {
   "cell_type": "markdown",
   "metadata": {},
   "source": [
    "### Check the dataset shape\n",
    "\n",
    "Knowing the amount of data we have is very important, because the quality of our analysis is depend on that."
   ]
  },
  {
   "cell_type": "code",
   "execution_count": 11,
   "metadata": {},
   "outputs": [
    {
     "data": {
      "text/plain": [
       "(12795, 17)"
      ]
     },
     "execution_count": 11,
     "metadata": {},
     "output_type": "execute_result"
    }
   ],
   "source": [
    "# check the result\n",
    "df.shape"
   ]
  },
  {
   "cell_type": "markdown",
   "metadata": {},
   "source": [
    "###  Data dictionary"
   ]
  },
  {
   "cell_type": "markdown",
   "metadata": {},
   "source": [
    "| Columns| Description |\n",
    "|:------:|-|\n",
    "| INDEX |  Unique ID | \n",
    "| TARGET | Response Variable (indicates # of cases of wine sold) | \n",
    "| AcidIndex|  Measures total acidity of wine via a weighted average| \n",
    "| Alcohol| Alcohol Content | \n",
    "| Chlorides| Chloride content of the wine | \n",
    "| CitricAcid | Citric Acid content of the wine | \n",
    "| Density | Density of the wine | \n",
    "| FixedAcidity | FixedAcidity of the wine | \n",
    "| FreeSulfurDioxide |  Sulfur Dioxide content of the wine | \n",
    "| LabelAppeal |  Subjective marketing score that indicates the appeal of\n",
    "the design of the label on the bottle | \n",
    "| ResidualSugar|  Residual sugar content of the wine | \n",
    "| STARS|  Wine rating as determined by experts (4 = excellent; 1 =\n",
    "Poor | \n",
    "| Sulphates|  Sulfate content of the wine | \n",
    "| TotalSulfurDioxide |  Total sulfur dioxide content of the wine | \n",
    "| VolatileAcidity| Volatile acid content of the wine | \n",
    "| pH | pH of the wine |"
   ]
  },
  {
   "cell_type": "markdown",
   "metadata": {},
   "source": [
    "### Data types of all columns\n",
    "Pandas.dtypes function helps us to display the data types of all columns as a series."
   ]
  },
  {
   "cell_type": "code",
   "execution_count": 12,
   "metadata": {},
   "outputs": [
    {
     "data": {
      "text/plain": [
       "Unnamed: 0              int64\n",
       "INDEX                   int64\n",
       "TARGET                  int64\n",
       "FixedAcidity          float64\n",
       "VolatileAcidity       float64\n",
       "CitricAcid            float64\n",
       "ResidualSugar         float64\n",
       "Chlorides             float64\n",
       "FreeSulfurDioxide     float64\n",
       "TotalSulfurDioxide    float64\n",
       "Density               float64\n",
       "pH                    float64\n",
       "Sulphates             float64\n",
       "Alcohol               float64\n",
       "LabelAppeal             int64\n",
       "AcidIndex               int64\n",
       "STARS                 float64\n",
       "dtype: object"
      ]
     },
     "execution_count": 12,
     "metadata": {},
     "output_type": "execute_result"
    }
   ],
   "source": [
    "# Check the data types\n",
    "\n",
    "df.dtypes"
   ]
  },
  {
   "cell_type": "markdown",
   "metadata": {},
   "source": [
    "### Check null values\n",
    "I checked null valus which is a fundamental part of data cleaning. I will use Pandas. isnull() and .sum() functions together to display count of missing values of each attribute."
   ]
  },
  {
   "cell_type": "code",
   "execution_count": 13,
   "metadata": {},
   "outputs": [
    {
     "name": "stdout",
     "output_type": "stream",
     "text": [
      "Unnamed: 0               0\n",
      "INDEX                    0\n",
      "TARGET                   0\n",
      "FixedAcidity             0\n",
      "VolatileAcidity          0\n",
      "CitricAcid               0\n",
      "ResidualSugar          616\n",
      "Chlorides              638\n",
      "FreeSulfurDioxide      647\n",
      "TotalSulfurDioxide     682\n",
      "Density                  0\n",
      "pH                     395\n",
      "Sulphates             1210\n",
      "Alcohol                653\n",
      "LabelAppeal              0\n",
      "AcidIndex                0\n",
      "STARS                 3359\n",
      "dtype: int64\n"
     ]
    }
   ],
   "source": [
    "# recommended code \n",
    "\n",
    "print (df.isnull().sum())"
   ]
  },
  {
   "cell_type": "markdown",
   "metadata": {},
   "source": [
    "### Check duplicates values"
   ]
  },
  {
   "cell_type": "code",
   "execution_count": 14,
   "metadata": {},
   "outputs": [
    {
     "data": {
      "text/plain": [
       "False    12795\n",
       "dtype: int64"
      ]
     },
     "execution_count": 14,
     "metadata": {},
     "output_type": "execute_result"
    }
   ],
   "source": [
    "# use duplicated function\n",
    "df_dup = df.duplicated()\n",
    "\n",
    "# check the result\n",
    "df_dup.value_counts()"
   ]
  },
  {
   "cell_type": "code",
   "execution_count": null,
   "metadata": {},
   "outputs": [],
   "source": []
  }
 ],
 "metadata": {
  "kernelspec": {
   "display_name": "Python 3",
   "language": "python",
   "name": "python3"
  },
  "language_info": {
   "codemirror_mode": {
    "name": "ipython",
    "version": 3
   },
   "file_extension": ".py",
   "mimetype": "text/x-python",
   "name": "python",
   "nbconvert_exporter": "python",
   "pygments_lexer": "ipython3",
   "version": "3.8.5"
  }
 },
 "nbformat": 4,
 "nbformat_minor": 4
}
