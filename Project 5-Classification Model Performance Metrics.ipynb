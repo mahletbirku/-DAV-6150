{
 "cells": [
  {
   "cell_type": "markdown",
   "metadata": {},
   "source": [
    "# DAV 6150 Module 5 Assignment\n",
    "## Understanding Classification Model Performance Metrics\n",
    "#### Author: Mahlet Melese\n",
    "#### Date: June 27, 2023"
   ]
  },
  {
   "cell_type": "markdown",
   "metadata": {},
   "source": [
    "## 1. Introduction\n",
    "In this project, we are tasked with calculating a suite of classification model performance metrics via Python code functions that we create and then comparing our results to those of pre-built Python functions that automatically calculate those same metrics.We will also be creating graphical output via Python code that can be used to evaluate the performance of classification models.\n",
    "\n",
    "The data set you will be using for this work is comprised of approximately 180 labeled binary observations. The classifications are either ‘0’ or ‘1’. A classification model has been used to “predict” the actual classifications for each observation, and its algorithm works by estimating the probability that the correct classification for each observation is a ‘1’. The data set includes three attributes that we will make use of for our analysis:\n",
    "1) class: the actual classification for the observation\n",
    "2) scored.class: the predicted classification for the observation\n",
    "3) scored.probability: the classification model’s probability score (i.e., the likelihood that the correct classification for an observation is a ‘1’) for the observation."
   ]
  },
  {
   "cell_type": "markdown",
   "metadata": {},
   "source": [
    "## Import Libraries"
   ]
  },
  {
   "cell_type": "code",
   "execution_count": 79,
   "metadata": {},
   "outputs": [],
   "source": [
    "# load numpy + 'datasets'. We'll use the \"iris\" data that is provided with sklearn\n",
    "import numpy as np\n",
    "import pandas as pd\n",
    "import seaborn as sns\n",
    "from sklearn.linear_model import LinearRegression\n",
    "import matplotlib.pyplot as plt\n",
    "from sklearn import datasets\n",
    "import warnings\n",
    "warnings.filterwarnings('ignore')\n",
    "import matplotlib.pyplot as plt\n",
    "from sklearn.model_selection import KFold\n",
    "from sklearn.model_selection import cross_val_score\n",
    "\n",
    "from sklearn.metrics import precision_score, recall_score, f1_score, accuracy_score\n",
    "from sklearn.metrics import confusion_matrix\n",
    "from sklearn.metrics import roc_auc_score, roc_curve\n",
    "\n",
    "\n"
   ]
  },
  {
   "cell_type": "markdown",
   "metadata": {},
   "source": [
    "##  2. Exploratory Data Analysis "
   ]
  },
  {
   "cell_type": "markdown",
   "metadata": {},
   "source": [
    "#### Part 1. Read dataset from my github  repo and creat pandas dataframe"
   ]
  },
  {
   "cell_type": "code",
   "execution_count": 4,
   "metadata": {},
   "outputs": [
    {
     "data": {
      "text/html": [
       "<div>\n",
       "<style scoped>\n",
       "    .dataframe tbody tr th:only-of-type {\n",
       "        vertical-align: middle;\n",
       "    }\n",
       "\n",
       "    .dataframe tbody tr th {\n",
       "        vertical-align: top;\n",
       "    }\n",
       "\n",
       "    .dataframe thead th {\n",
       "        text-align: right;\n",
       "    }\n",
       "</style>\n",
       "<table border=\"1\" class=\"dataframe\">\n",
       "  <thead>\n",
       "    <tr style=\"text-align: right;\">\n",
       "      <th></th>\n",
       "      <th>pregnant</th>\n",
       "      <th>glucose</th>\n",
       "      <th>diastolic</th>\n",
       "      <th>skinfold</th>\n",
       "      <th>insulin</th>\n",
       "      <th>bmi</th>\n",
       "      <th>pedigree</th>\n",
       "      <th>age</th>\n",
       "      <th>class</th>\n",
       "      <th>scored.class</th>\n",
       "      <th>scored.probability</th>\n",
       "    </tr>\n",
       "  </thead>\n",
       "  <tbody>\n",
       "    <tr>\n",
       "      <th>0</th>\n",
       "      <td>7</td>\n",
       "      <td>124</td>\n",
       "      <td>70</td>\n",
       "      <td>33</td>\n",
       "      <td>215</td>\n",
       "      <td>25.5</td>\n",
       "      <td>0.161</td>\n",
       "      <td>37</td>\n",
       "      <td>0</td>\n",
       "      <td>0</td>\n",
       "      <td>0.328452</td>\n",
       "    </tr>\n",
       "    <tr>\n",
       "      <th>1</th>\n",
       "      <td>2</td>\n",
       "      <td>122</td>\n",
       "      <td>76</td>\n",
       "      <td>27</td>\n",
       "      <td>200</td>\n",
       "      <td>35.9</td>\n",
       "      <td>0.483</td>\n",
       "      <td>26</td>\n",
       "      <td>0</td>\n",
       "      <td>0</td>\n",
       "      <td>0.273190</td>\n",
       "    </tr>\n",
       "    <tr>\n",
       "      <th>2</th>\n",
       "      <td>3</td>\n",
       "      <td>107</td>\n",
       "      <td>62</td>\n",
       "      <td>13</td>\n",
       "      <td>48</td>\n",
       "      <td>22.9</td>\n",
       "      <td>0.678</td>\n",
       "      <td>23</td>\n",
       "      <td>1</td>\n",
       "      <td>0</td>\n",
       "      <td>0.109660</td>\n",
       "    </tr>\n",
       "    <tr>\n",
       "      <th>3</th>\n",
       "      <td>1</td>\n",
       "      <td>91</td>\n",
       "      <td>64</td>\n",
       "      <td>24</td>\n",
       "      <td>0</td>\n",
       "      <td>29.2</td>\n",
       "      <td>0.192</td>\n",
       "      <td>21</td>\n",
       "      <td>0</td>\n",
       "      <td>0</td>\n",
       "      <td>0.055998</td>\n",
       "    </tr>\n",
       "    <tr>\n",
       "      <th>4</th>\n",
       "      <td>4</td>\n",
       "      <td>83</td>\n",
       "      <td>86</td>\n",
       "      <td>19</td>\n",
       "      <td>0</td>\n",
       "      <td>29.3</td>\n",
       "      <td>0.317</td>\n",
       "      <td>34</td>\n",
       "      <td>0</td>\n",
       "      <td>0</td>\n",
       "      <td>0.100491</td>\n",
       "    </tr>\n",
       "    <tr>\n",
       "      <th>...</th>\n",
       "      <td>...</td>\n",
       "      <td>...</td>\n",
       "      <td>...</td>\n",
       "      <td>...</td>\n",
       "      <td>...</td>\n",
       "      <td>...</td>\n",
       "      <td>...</td>\n",
       "      <td>...</td>\n",
       "      <td>...</td>\n",
       "      <td>...</td>\n",
       "      <td>...</td>\n",
       "    </tr>\n",
       "    <tr>\n",
       "      <th>176</th>\n",
       "      <td>5</td>\n",
       "      <td>123</td>\n",
       "      <td>74</td>\n",
       "      <td>40</td>\n",
       "      <td>77</td>\n",
       "      <td>34.1</td>\n",
       "      <td>0.269</td>\n",
       "      <td>28</td>\n",
       "      <td>0</td>\n",
       "      <td>0</td>\n",
       "      <td>0.311420</td>\n",
       "    </tr>\n",
       "    <tr>\n",
       "      <th>177</th>\n",
       "      <td>4</td>\n",
       "      <td>146</td>\n",
       "      <td>78</td>\n",
       "      <td>0</td>\n",
       "      <td>0</td>\n",
       "      <td>38.5</td>\n",
       "      <td>0.520</td>\n",
       "      <td>67</td>\n",
       "      <td>1</td>\n",
       "      <td>1</td>\n",
       "      <td>0.707210</td>\n",
       "    </tr>\n",
       "    <tr>\n",
       "      <th>178</th>\n",
       "      <td>8</td>\n",
       "      <td>188</td>\n",
       "      <td>78</td>\n",
       "      <td>0</td>\n",
       "      <td>0</td>\n",
       "      <td>47.9</td>\n",
       "      <td>0.137</td>\n",
       "      <td>43</td>\n",
       "      <td>1</td>\n",
       "      <td>1</td>\n",
       "      <td>0.888277</td>\n",
       "    </tr>\n",
       "    <tr>\n",
       "      <th>179</th>\n",
       "      <td>9</td>\n",
       "      <td>120</td>\n",
       "      <td>72</td>\n",
       "      <td>22</td>\n",
       "      <td>56</td>\n",
       "      <td>20.8</td>\n",
       "      <td>0.733</td>\n",
       "      <td>48</td>\n",
       "      <td>0</td>\n",
       "      <td>0</td>\n",
       "      <td>0.422468</td>\n",
       "    </tr>\n",
       "    <tr>\n",
       "      <th>180</th>\n",
       "      <td>0</td>\n",
       "      <td>102</td>\n",
       "      <td>86</td>\n",
       "      <td>17</td>\n",
       "      <td>105</td>\n",
       "      <td>29.3</td>\n",
       "      <td>0.695</td>\n",
       "      <td>27</td>\n",
       "      <td>0</td>\n",
       "      <td>0</td>\n",
       "      <td>0.119981</td>\n",
       "    </tr>\n",
       "  </tbody>\n",
       "</table>\n",
       "<p>181 rows × 11 columns</p>\n",
       "</div>"
      ],
      "text/plain": [
       "     pregnant  glucose  diastolic  skinfold  insulin   bmi  pedigree  age  \\\n",
       "0           7      124         70        33      215  25.5     0.161   37   \n",
       "1           2      122         76        27      200  35.9     0.483   26   \n",
       "2           3      107         62        13       48  22.9     0.678   23   \n",
       "3           1       91         64        24        0  29.2     0.192   21   \n",
       "4           4       83         86        19        0  29.3     0.317   34   \n",
       "..        ...      ...        ...       ...      ...   ...       ...  ...   \n",
       "176         5      123         74        40       77  34.1     0.269   28   \n",
       "177         4      146         78         0        0  38.5     0.520   67   \n",
       "178         8      188         78         0        0  47.9     0.137   43   \n",
       "179         9      120         72        22       56  20.8     0.733   48   \n",
       "180         0      102         86        17      105  29.3     0.695   27   \n",
       "\n",
       "     class  scored.class  scored.probability  \n",
       "0        0             0            0.328452  \n",
       "1        0             0            0.273190  \n",
       "2        1             0            0.109660  \n",
       "3        0             0            0.055998  \n",
       "4        0             0            0.100491  \n",
       "..     ...           ...                 ...  \n",
       "176      0             0            0.311420  \n",
       "177      1             1            0.707210  \n",
       "178      1             1            0.888277  \n",
       "179      0             0            0.422468  \n",
       "180      0             0            0.119981  \n",
       "\n",
       "[181 rows x 11 columns]"
      ]
     },
     "execution_count": 4,
     "metadata": {},
     "output_type": "execute_result"
    }
   ],
   "source": [
    "# Downloading the csv file from my GitHub repo\n",
    "data_url = \"https://raw.githubusercontent.com/mahletbirku/-DAV-6150/main/M5_Data.csv\" \n",
    "df = pd.read_csv(data_url, header=0)\n",
    "df"
   ]
  },
  {
   "cell_type": "code",
   "execution_count": 5,
   "metadata": {},
   "outputs": [
    {
     "data": {
      "text/plain": [
       "(181, 11)"
      ]
     },
     "execution_count": 5,
     "metadata": {},
     "output_type": "execute_result"
    }
   ],
   "source": [
    "# what is the dimensionality of the data?\n",
    "df.shape"
   ]
  },
  {
   "cell_type": "markdown",
   "metadata": {},
   "source": [
    "As we can see above, we have 39644 observations comprised of 61 features. What do the features look like?"
   ]
  },
  {
   "cell_type": "code",
   "execution_count": 6,
   "metadata": {},
   "outputs": [
    {
     "data": {
      "text/plain": [
       "Index(['pregnant', 'glucose', 'diastolic', 'skinfold', 'insulin', 'bmi',\n",
       "       'pedigree', 'age', 'class', 'scored.class', 'scored.probability'],\n",
       "      dtype='object')"
      ]
     },
     "execution_count": 6,
     "metadata": {},
     "output_type": "execute_result"
    }
   ],
   "source": [
    "# display features of the dataset\n",
    "df.columns"
   ]
  },
  {
   "cell_type": "markdown",
   "metadata": {},
   "source": [
    "#### Data types of all columns"
   ]
  },
  {
   "cell_type": "markdown",
   "metadata": {},
   "source": [
    "- Pandas.dtypes function helps us to display the data types of all columns as a series."
   ]
  },
  {
   "cell_type": "code",
   "execution_count": 7,
   "metadata": {},
   "outputs": [
    {
     "data": {
      "text/plain": [
       "pregnant                int64\n",
       "glucose                 int64\n",
       "diastolic               int64\n",
       "skinfold                int64\n",
       "insulin                 int64\n",
       "bmi                   float64\n",
       "pedigree              float64\n",
       "age                     int64\n",
       "class                   int64\n",
       "scored.class            int64\n",
       "scored.probability    float64\n",
       "dtype: object"
      ]
     },
     "execution_count": 7,
     "metadata": {},
     "output_type": "execute_result"
    }
   ],
   "source": [
    "# Check the data types\n",
    "df.dtypes"
   ]
  },
  {
   "cell_type": "markdown",
   "metadata": {},
   "source": [
    "####  Let's check if there is a missing value\n",
    "Before answering those questions below , I checked null valus which is a fundamental part of data cleaning."
   ]
  },
  {
   "cell_type": "code",
   "execution_count": 8,
   "metadata": {},
   "outputs": [
    {
     "data": {
      "text/plain": [
       "pregnant              0\n",
       "glucose               0\n",
       "diastolic             0\n",
       "skinfold              0\n",
       "insulin               0\n",
       "bmi                   0\n",
       "pedigree              0\n",
       "age                   0\n",
       "class                 0\n",
       "scored.class          0\n",
       "scored.probability    0\n",
       "dtype: int64"
      ]
     },
     "execution_count": 8,
     "metadata": {},
     "output_type": "execute_result"
    }
   ],
   "source": [
    "# recommended code \n",
    "df.isna().sum()"
   ]
  },
  {
   "cell_type": "markdown",
   "metadata": {},
   "source": [
    "####  Let's get some of the basic statistics of the data.\n",
    "\n",
    "- From the table above, for each feature we can get the mean, standard deviation, count, and other basic information that can tell about the data."
   ]
  },
  {
   "cell_type": "code",
   "execution_count": 9,
   "metadata": {},
   "outputs": [
    {
     "data": {
      "text/html": [
       "<div>\n",
       "<style scoped>\n",
       "    .dataframe tbody tr th:only-of-type {\n",
       "        vertical-align: middle;\n",
       "    }\n",
       "\n",
       "    .dataframe tbody tr th {\n",
       "        vertical-align: top;\n",
       "    }\n",
       "\n",
       "    .dataframe thead th {\n",
       "        text-align: right;\n",
       "    }\n",
       "</style>\n",
       "<table border=\"1\" class=\"dataframe\">\n",
       "  <thead>\n",
       "    <tr style=\"text-align: right;\">\n",
       "      <th></th>\n",
       "      <th>pregnant</th>\n",
       "      <th>glucose</th>\n",
       "      <th>diastolic</th>\n",
       "      <th>skinfold</th>\n",
       "      <th>insulin</th>\n",
       "      <th>bmi</th>\n",
       "      <th>pedigree</th>\n",
       "      <th>age</th>\n",
       "      <th>class</th>\n",
       "      <th>scored.class</th>\n",
       "      <th>scored.probability</th>\n",
       "    </tr>\n",
       "  </thead>\n",
       "  <tbody>\n",
       "    <tr>\n",
       "      <th>count</th>\n",
       "      <td>181.000000</td>\n",
       "      <td>181.000000</td>\n",
       "      <td>181.000000</td>\n",
       "      <td>181.000000</td>\n",
       "      <td>181.000000</td>\n",
       "      <td>181.000000</td>\n",
       "      <td>181.000000</td>\n",
       "      <td>181.000000</td>\n",
       "      <td>181.000000</td>\n",
       "      <td>181.000000</td>\n",
       "      <td>181.000000</td>\n",
       "    </tr>\n",
       "    <tr>\n",
       "      <th>mean</th>\n",
       "      <td>3.861878</td>\n",
       "      <td>118.303867</td>\n",
       "      <td>71.701657</td>\n",
       "      <td>19.801105</td>\n",
       "      <td>63.767956</td>\n",
       "      <td>31.577901</td>\n",
       "      <td>0.449641</td>\n",
       "      <td>33.314917</td>\n",
       "      <td>0.314917</td>\n",
       "      <td>0.176796</td>\n",
       "      <td>0.303726</td>\n",
       "    </tr>\n",
       "    <tr>\n",
       "      <th>std</th>\n",
       "      <td>3.236551</td>\n",
       "      <td>30.484084</td>\n",
       "      <td>11.802987</td>\n",
       "      <td>15.692326</td>\n",
       "      <td>88.734756</td>\n",
       "      <td>6.659935</td>\n",
       "      <td>0.284006</td>\n",
       "      <td>11.183582</td>\n",
       "      <td>0.465771</td>\n",
       "      <td>0.382554</td>\n",
       "      <td>0.231235</td>\n",
       "    </tr>\n",
       "    <tr>\n",
       "      <th>min</th>\n",
       "      <td>0.000000</td>\n",
       "      <td>57.000000</td>\n",
       "      <td>38.000000</td>\n",
       "      <td>0.000000</td>\n",
       "      <td>0.000000</td>\n",
       "      <td>19.400000</td>\n",
       "      <td>0.085000</td>\n",
       "      <td>21.000000</td>\n",
       "      <td>0.000000</td>\n",
       "      <td>0.000000</td>\n",
       "      <td>0.023228</td>\n",
       "    </tr>\n",
       "    <tr>\n",
       "      <th>25%</th>\n",
       "      <td>1.000000</td>\n",
       "      <td>99.000000</td>\n",
       "      <td>64.000000</td>\n",
       "      <td>0.000000</td>\n",
       "      <td>0.000000</td>\n",
       "      <td>26.300000</td>\n",
       "      <td>0.257000</td>\n",
       "      <td>24.000000</td>\n",
       "      <td>0.000000</td>\n",
       "      <td>0.000000</td>\n",
       "      <td>0.117024</td>\n",
       "    </tr>\n",
       "    <tr>\n",
       "      <th>50%</th>\n",
       "      <td>3.000000</td>\n",
       "      <td>112.000000</td>\n",
       "      <td>70.000000</td>\n",
       "      <td>22.000000</td>\n",
       "      <td>0.000000</td>\n",
       "      <td>31.600000</td>\n",
       "      <td>0.391000</td>\n",
       "      <td>30.000000</td>\n",
       "      <td>0.000000</td>\n",
       "      <td>0.000000</td>\n",
       "      <td>0.239994</td>\n",
       "    </tr>\n",
       "    <tr>\n",
       "      <th>75%</th>\n",
       "      <td>6.000000</td>\n",
       "      <td>136.000000</td>\n",
       "      <td>78.000000</td>\n",
       "      <td>32.000000</td>\n",
       "      <td>105.000000</td>\n",
       "      <td>36.000000</td>\n",
       "      <td>0.580000</td>\n",
       "      <td>41.000000</td>\n",
       "      <td>1.000000</td>\n",
       "      <td>0.000000</td>\n",
       "      <td>0.430926</td>\n",
       "    </tr>\n",
       "    <tr>\n",
       "      <th>max</th>\n",
       "      <td>15.000000</td>\n",
       "      <td>197.000000</td>\n",
       "      <td>104.000000</td>\n",
       "      <td>54.000000</td>\n",
       "      <td>543.000000</td>\n",
       "      <td>50.000000</td>\n",
       "      <td>2.288000</td>\n",
       "      <td>67.000000</td>\n",
       "      <td>1.000000</td>\n",
       "      <td>1.000000</td>\n",
       "      <td>0.946334</td>\n",
       "    </tr>\n",
       "  </tbody>\n",
       "</table>\n",
       "</div>"
      ],
      "text/plain": [
       "         pregnant     glucose   diastolic    skinfold     insulin         bmi  \\\n",
       "count  181.000000  181.000000  181.000000  181.000000  181.000000  181.000000   \n",
       "mean     3.861878  118.303867   71.701657   19.801105   63.767956   31.577901   \n",
       "std      3.236551   30.484084   11.802987   15.692326   88.734756    6.659935   \n",
       "min      0.000000   57.000000   38.000000    0.000000    0.000000   19.400000   \n",
       "25%      1.000000   99.000000   64.000000    0.000000    0.000000   26.300000   \n",
       "50%      3.000000  112.000000   70.000000   22.000000    0.000000   31.600000   \n",
       "75%      6.000000  136.000000   78.000000   32.000000  105.000000   36.000000   \n",
       "max     15.000000  197.000000  104.000000   54.000000  543.000000   50.000000   \n",
       "\n",
       "         pedigree         age       class  scored.class  scored.probability  \n",
       "count  181.000000  181.000000  181.000000    181.000000          181.000000  \n",
       "mean     0.449641   33.314917    0.314917      0.176796            0.303726  \n",
       "std      0.284006   11.183582    0.465771      0.382554            0.231235  \n",
       "min      0.085000   21.000000    0.000000      0.000000            0.023228  \n",
       "25%      0.257000   24.000000    0.000000      0.000000            0.117024  \n",
       "50%      0.391000   30.000000    0.000000      0.000000            0.239994  \n",
       "75%      0.580000   41.000000    1.000000      0.000000            0.430926  \n",
       "max      2.288000   67.000000    1.000000      1.000000            0.946334  "
      ]
     },
     "execution_count": 9,
     "metadata": {},
     "output_type": "execute_result"
    }
   ],
   "source": [
    "df.describe()"
   ]
  },
  {
   "cell_type": "markdown",
   "metadata": {},
   "source": [
    "**Here, we have 181 counts, for all the  attributes for the final analysis.**"
   ]
  },
  {
   "cell_type": "markdown",
   "metadata": {},
   "source": [
    "#### 3. Crosstab() function\n",
    "\n",
    "Use the value_counts(), determine whether the rows or columns in the crosstab() output sum to the respective value_counts()."
   ]
  },
  {
   "cell_type": "code",
   "execution_count": 10,
   "metadata": {},
   "outputs": [],
   "source": [
    "actual=np.array(df['class'])\n",
    "predicted=np.array(df['scored.class'])"
   ]
  },
  {
   "cell_type": "code",
   "execution_count": 64,
   "metadata": {},
   "outputs": [
    {
     "data": {
      "text/html": [
       "<div>\n",
       "<style scoped>\n",
       "    .dataframe tbody tr th:only-of-type {\n",
       "        vertical-align: middle;\n",
       "    }\n",
       "\n",
       "    .dataframe tbody tr th {\n",
       "        vertical-align: top;\n",
       "    }\n",
       "\n",
       "    .dataframe thead th {\n",
       "        text-align: right;\n",
       "    }\n",
       "</style>\n",
       "<table border=\"1\" class=\"dataframe\">\n",
       "  <thead>\n",
       "    <tr style=\"text-align: right;\">\n",
       "      <th>Predicted</th>\n",
       "      <th>0</th>\n",
       "      <th>1</th>\n",
       "      <th>All</th>\n",
       "    </tr>\n",
       "    <tr>\n",
       "      <th>Actual</th>\n",
       "      <th></th>\n",
       "      <th></th>\n",
       "      <th></th>\n",
       "    </tr>\n",
       "  </thead>\n",
       "  <tbody>\n",
       "    <tr>\n",
       "      <th>0</th>\n",
       "      <td>119</td>\n",
       "      <td>5</td>\n",
       "      <td>124</td>\n",
       "    </tr>\n",
       "    <tr>\n",
       "      <th>1</th>\n",
       "      <td>30</td>\n",
       "      <td>27</td>\n",
       "      <td>57</td>\n",
       "    </tr>\n",
       "    <tr>\n",
       "      <th>All</th>\n",
       "      <td>149</td>\n",
       "      <td>32</td>\n",
       "      <td>181</td>\n",
       "    </tr>\n",
       "  </tbody>\n",
       "</table>\n",
       "</div>"
      ],
      "text/plain": [
       "Predicted    0   1  All\n",
       "Actual                 \n",
       "0          119   5  124\n",
       "1           30  27   57\n",
       "All        149  32  181"
      ]
     },
     "execution_count": 64,
     "metadata": {},
     "output_type": "execute_result"
    }
   ],
   "source": [
    "cross_tab_cm = pd.crosstab(actual, predicted, rownames=['Actual'], colnames=['Predicted'], margins=True)\n",
    "cross_tab_cm"
   ]
  },
  {
   "cell_type": "markdown",
   "metadata": {},
   "source": [
    "- From the above table, we can see that rows represent the actual class where as the columns represent the predicted class.\n",
    "- The total count is 181 which is the number of observation."
   ]
  },
  {
   "cell_type": "markdown",
   "metadata": {},
   "source": [
    "#### 4. Extract TP,FN,FP, and TN"
   ]
  },
  {
   "cell_type": "code",
   "execution_count": 65,
   "metadata": {},
   "outputs": [
    {
     "name": "stdout",
     "output_type": "stream",
     "text": [
      "The number of true postive is  27\n",
      "The number of false negative is  30\n",
      "The number of false postive is  5\n",
      "The number of true negative is  119\n"
     ]
    }
   ],
   "source": [
    "TP=cross_tab_cm[1][1]\n",
    "FN=cross_tab_cm[0][1]\n",
    "FP=cross_tab_cm[1][0]\n",
    "TN=cross_tab_cm[0][0]\n",
    "print(\"The number of true postive is \", TP)\n",
    "print(\"The number of false negative is \", FN)\n",
    "print(\"The number of false postive is \", FP)\n",
    "print(\"The number of true negative is \", TN)"
   ]
  },
  {
   "cell_type": "markdown",
   "metadata": {},
   "source": [
    "#### 5-9 Accurcy, Precision, Sensitivity/Recall,  Specificity, F1-score"
   ]
  },
  {
   "cell_type": "code",
   "execution_count": 66,
   "metadata": {},
   "outputs": [],
   "source": [
    "def metrics_func(actual, predicted):\n",
    "    \n",
    "    TP = ((predicted == 1) & (actual== 1)).sum()\n",
    "    FN= ((predicted == 0) & (actual== 1)).sum()\n",
    "    FP= ((predicted == 1) & (actual== 0)).sum()\n",
    "    TN=((predicted == 0) & (actual== 0)).sum()\n",
    "     \n",
    "    accuracy_score= np.mean(actual==predicted)\n",
    "    precision_score = (TP) / (TP + FP) \n",
    "    recall_score    = TP / (TP + FN)\n",
    "    specificity_score = TN / (TN + FP)\n",
    "    f1_score  = (2 * precision_score * recall_score) / (precision_score + recall_score)\n",
    "\n",
    "    return accuracy_score*100,precision_score*100, recall_score*100, specificity_score*100, f1_score"
   ]
  },
  {
   "cell_type": "markdown",
   "metadata": {},
   "source": [
    "#### 10. ROC and AUC"
   ]
  },
  {
   "cell_type": "code",
   "execution_count": 67,
   "metadata": {},
   "outputs": [],
   "source": [
    "def tpr_fpr(df):\n",
    "    \n",
    "    actual=np.array(df['class'])\n",
    "    predicted=np.array(df['scored.class'])\n",
    "    \n",
    "    TP = ((predicted == 1) & (actual== 1)).sum()\n",
    "    FN= ((predicted == 0) & (actual== 1)).sum()\n",
    "    FP= ((predicted == 1) & (actual== 0)).sum()\n",
    "    TN=((predicted == 0) & (actual== 0)).sum()\n",
    "     \n",
    "    tpr=TP/(TP + FN)\n",
    "    fpr=FP/(FP+TN)\n",
    "\n",
    "    return tpr, fpr"
   ]
  },
  {
   "cell_type": "markdown",
   "metadata": {},
   "source": [
    "- For ROC, we need to calculate \"TPr,\"FPR\" at every threshold by using actual and predicted class.\n",
    "- For AUC, I used np.trapz() function"
   ]
  },
  {
   "cell_type": "code",
   "execution_count": 68,
   "metadata": {},
   "outputs": [],
   "source": [
    "def compute_tpr_fpr_array(df):\n",
    "    \n",
    "    new_sorted_df = df.sort_values(by=['scored.probability'], ascending=False)\n",
    "    thresholds = new_sorted_df['scored.probability'].unique()\n",
    "    tpr_list = []\n",
    "    fpr_list = []\n",
    "    for threshold in thresholds:\n",
    "            new_sorted_df['scored.class'] = np.where(new_sorted_df['scored.probability'] >= threshold, 1, 0)\n",
    "            \n",
    "            tpr_fpr_value = tpr_fpr(new_sorted_df)\n",
    "            \n",
    "            tpr_list.append(tpr_fpr_value[0])\n",
    "            fpr_list.append(tpr_fpr_value[1])\n",
    "\n",
    "    return tpr_list, fpr_list"
   ]
  },
  {
   "cell_type": "code",
   "execution_count": 69,
   "metadata": {},
   "outputs": [
    {
     "data": {
      "text/plain": [
       "0.8503112620260328"
      ]
     },
     "execution_count": 69,
     "metadata": {},
     "output_type": "execute_result"
    }
   ],
   "source": [
    "tpr_list, fpr_list=compute_tpr_fpr_array(df)\n",
    "auc_score=np.trapz(tpr_list,fpr_list)\n",
    "auc_score"
   ]
  },
  {
   "cell_type": "markdown",
   "metadata": {},
   "source": [
    "#### Plot ROC curve"
   ]
  },
  {
   "cell_type": "code",
   "execution_count": 73,
   "metadata": {},
   "outputs": [
    {
     "data": {
      "text/plain": [
       "Text(0.5, 1.0, 'AUC=0.8503')"
      ]
     },
     "execution_count": 73,
     "metadata": {},
     "output_type": "execute_result"
    },
    {
     "data": {
      "image/png": "[encoded data removed]",
      "text/plain": [
       "<Figure size 432x288 with 1 Axes>"
      ]
     },
     "metadata": {
      "needs_background": "light"
     },
     "output_type": "display_data"
    }
   ],
   "source": [
    "plt.plot(fpr_list,tpr_list, 'r', lw=2)\n",
    "plt.plot([0, 1], [0, 1], 'k-', lw=2)\n",
    "plt.xlabel('FPR')\n",
    "plt.ylabel('TPR')\n",
    "plt.title('AUC={}'.format(round(auc_score, 4)))"
   ]
  },
  {
   "cell_type": "markdown",
   "metadata": {},
   "source": [
    "#### 11. Apply the Python functions"
   ]
  },
  {
   "cell_type": "code",
   "execution_count": 75,
   "metadata": {},
   "outputs": [
    {
     "name": "stdout",
     "output_type": "stream",
     "text": [
      "The accuracy is  80.66298342541437\n",
      "The precision score is  84.375\n",
      "The recall score is  47.368421052631575\n",
      "The specificity score is  95.96774193548387\n",
      "The f1 score is  0.6067415730337079\n"
     ]
    }
   ],
   "source": [
    "accuracy_score,precision_score, recall_score, specificity_score, f1_score= metrics_func(actual, predicted)\n",
    "\n",
    "print(\"The accuracy is \",accuracy_score )\n",
    "print(\"The precision score is \",precision_score )\n",
    "print(\"The recall score is \",recall_score )\n",
    "print(\"The specificity score is \",specificity_score )\n",
    "print(\"The f1 score is \",f1_score )"
   ]
  },
  {
   "cell_type": "markdown",
   "metadata": {},
   "source": [
    "#### 12. Compare the output of the functions"
   ]
  },
  {
   "cell_type": "code",
   "execution_count": 76,
   "metadata": {},
   "outputs": [
    {
     "data": {
      "text/plain": [
       "array([[119,   5],\n",
       "       [ 30,  27]], dtype=int64)"
      ]
     },
     "execution_count": 76,
     "metadata": {},
     "output_type": "execute_result"
    }
   ],
   "source": [
    "confusion_matrix(actual, predicted)"
   ]
  },
  {
   "cell_type": "markdown",
   "metadata": {},
   "source": [
    "- The confusion mtrix generated using crossta function is the sme as the built in confusion mtrix function result."
   ]
  },
  {
   "cell_type": "markdown",
   "metadata": {},
   "source": [
    "##### Metrics result using Sklearn"
   ]
  },
  {
   "cell_type": "code",
   "execution_count": 81,
   "metadata": {},
   "outputs": [
    {
     "name": "stdout",
     "output_type": "stream",
     "text": [
      "The accuracy is  80.66298342541437\n",
      "The precision score is  84.375\n",
      "The recall score is  47.368421052631575\n",
      "The f1 score is  0.6067415730337079\n"
     ]
    }
   ],
   "source": [
    "print(\"The accuracy is \",accuracy_score(actual, predicted)*100)\n",
    "print(\"The precision score is \", precision_score(actual, predicted, pos_label=1)*100)\n",
    "print(\"The recall score is \",recall_score(actual, predicted, pos_label=1)*100)\n",
    "print(\"The f1 score is \",f1_score(actual, predicted, pos_label=1))"
   ]
  },
  {
   "cell_type": "markdown",
   "metadata": {},
   "source": [
    "##### Classification report for model using Sklearn"
   ]
  },
  {
   "cell_type": "code",
   "execution_count": 88,
   "metadata": {},
   "outputs": [],
   "source": [
    "from sklearn.metrics import classification_report"
   ]
  },
  {
   "cell_type": "code",
   "execution_count": 89,
   "metadata": {},
   "outputs": [
    {
     "name": "stdout",
     "output_type": "stream",
     "text": [
      "              precision    recall  f1-score   support\n",
      "\n",
      "           0       0.80      0.96      0.87       124\n",
      "           1       0.84      0.47      0.61        57\n",
      "\n",
      "    accuracy                           0.81       181\n",
      "   macro avg       0.82      0.72      0.74       181\n",
      "weighted avg       0.81      0.81      0.79       181\n",
      "\n"
     ]
    }
   ],
   "source": [
    "#print classification report for model\n",
    "print(classification_report(actual, predicted))"
   ]
  },
  {
   "cell_type": "markdown",
   "metadata": {},
   "source": [
    "**From the above results, we can observe that the results that I was able to generate from functions that I implemented are the same as the pre-built functions using Sklearn. Thus, my implementaions are correct.**\n"
   ]
  },
  {
   "cell_type": "markdown",
   "metadata": {},
   "source": [
    "#### 13. ROC and AUC functions from the scikit-learn package"
   ]
  },
  {
   "cell_type": "code",
   "execution_count": 86,
   "metadata": {},
   "outputs": [],
   "source": [
    "def sklearn_roc_curve(df):\n",
    "    \n",
    "    actual=np.array(df['class'])\n",
    "    predicted=np.array(df['scored.class'])\n",
    "    prob=np.array(df['scored.probability'])\n",
    " \n",
    "    fpr, tpr, thresholds = roc_curve(actual, prob,pos_label=1)\n",
    "    auc_score = roc_auc_score(actual, prob)\n",
    "    plt.plot(fpr,tpr,'r', lw=2)\n",
    "    plt.plot([0, 1], [0, 1], 'k-', lw=2)\n",
    "    plt.xlabel('FPR')\n",
    "    plt.ylabel('TPR')\n",
    "    plt.title('AUC={}'.format(round(auc_score, 4)))"
   ]
  },
  {
   "cell_type": "code",
   "execution_count": 87,
   "metadata": {},
   "outputs": [
    {
     "data": {
      "image/png": "[encoded data removed]",
      "text/plain": [
       "<Figure size 432x288 with 1 Axes>"
      ]
     },
     "metadata": {
      "needs_background": "light"
     },
     "output_type": "display_data"
    }
   ],
   "source": [
    "sklearn_roc_curve(df)"
   ]
  },
  {
   "cell_type": "markdown",
   "metadata": {},
   "source": [
    "**- From the bove, we can observe that using Sklearn's built in function we get the same ROC curve and AUC score as the one that I implemented using my own functions. Thus, the AUC score is 0.8503. In conclusion, in this assignmnet, all the results from my functions agree with the sklearn's built in function results. Thus, my implementations are correct.**"
   ]
  }
 ],
 "metadata": {
  "kernelspec": {
   "display_name": "Python 3",
   "language": "python",
   "name": "python3"
  },
  "language_info": {
   "codemirror_mode": {
    "name": "ipython",
    "version": 3
   },
   "file_extension": ".py",
   "mimetype": "text/x-python",
   "name": "python",
   "nbconvert_exporter": "python",
   "pygments_lexer": "ipython3",
   "version": "3.8.5"
  }
 },
 "nbformat": 4,
 "nbformat_minor": 4
}
